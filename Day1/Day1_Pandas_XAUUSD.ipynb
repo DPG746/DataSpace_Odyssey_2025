{
 "cells": [
  {
   "cell_type": "code",
   "execution_count": 2,
   "id": "42f14e0a-4296-40df-a48e-ca079f65e4bb",
   "metadata": {},
   "outputs": [
    {
     "name": "stdout",
     "output_type": "stream",
     "text": [
      "2    2025-06-03\n",
      "Name: Date, dtype: object\n"
     ]
    }
   ],
   "source": [
    "import pandas as pd\n",
    "# Simulated XAU/USD data\n",
    "data = {'Date': ['2025-06-01', '2025-06-02', '2025-06-03', '2025-06-04'],\n",
    "        'Close': [2590, 2605, 2585, 2610]}\n",
    "df = pd.DataFrame(data)\n",
    "# Filter rows where Close > 2600\n",
    "filtered_df = df[df['Close'] > 2600]\n",
    "print(df[df['Close'] < 2590]['Date'])"
   ]
  },
  {
   "cell_type": "code",
   "execution_count": null,
   "id": "1c389dd7-27b1-4e0d-ba6f-6348ca9ebf98",
   "metadata": {},
   "outputs": [],
   "source": []
  }
 ],
 "metadata": {
  "kernelspec": {
   "display_name": "Python 3 (ipykernel)",
   "language": "python",
   "name": "python3"
  },
  "language_info": {
   "codemirror_mode": {
    "name": "ipython",
    "version": 3
   },
   "file_extension": ".py",
   "mimetype": "text/x-python",
   "name": "python",
   "nbconvert_exporter": "python",
   "pygments_lexer": "ipython3",
   "version": "3.11.13"
  }
 },
 "nbformat": 4,
 "nbformat_minor": 5
}
