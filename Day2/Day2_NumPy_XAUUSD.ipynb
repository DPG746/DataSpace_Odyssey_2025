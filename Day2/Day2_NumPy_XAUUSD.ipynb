{
 "cells": [
  {
   "cell_type": "code",
   "execution_count": 2,
   "id": "caff8ed6-7280-4d75-922e-36e59f65eba0",
   "metadata": {},
   "outputs": [
    {
     "name": "stdout",
     "output_type": "stream",
     "text": [
      "Mean XAU/USD PRICE: $2597.00\n",
      "Price Volatility(Std Dev): $9.27\n"
     ]
    }
   ],
   "source": [
    "import numpy as np\n",
    "prices=[2590,2605,2585,2610,2595]\n",
    "price_array=np.array(prices)\n",
    "mean_price=np.mean(price_array)\n",
    "std_price=np.std(price_array)\n",
    "print(f\"Mean XAU/USD PRICE: ${mean_price:.2f}\")\n",
    "print(f\"Price Volatility(Std Dev): ${std_price:.2f}\")"
   ]
  },
  {
   "cell_type": "code",
   "execution_count": null,
   "id": "d50339d9-2fb5-44b3-836b-f1f2ca38406f",
   "metadata": {},
   "outputs": [],
   "source": []
  }
 ],
 "metadata": {
  "kernelspec": {
   "display_name": "Python 3 (ipykernel)",
   "language": "python",
   "name": "python3"
  },
  "language_info": {
   "codemirror_mode": {
    "name": "ipython",
    "version": 3
   },
   "file_extension": ".py",
   "mimetype": "text/x-python",
   "name": "python",
   "nbconvert_exporter": "python",
   "pygments_lexer": "ipython3",
   "version": "3.11.13"
  }
 },
 "nbformat": 4,
 "nbformat_minor": 5
}
